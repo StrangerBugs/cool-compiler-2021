{
 "cells": [
  {
   "cell_type": "markdown",
   "metadata": {},
   "source": [
    "# Clase Práctica #14 (Compilación)\n",
    "\n",
    "En esta clase implementaremos las primeras fases de chequeo semántico para el lenguaje que comenzamos a estudiar en la clase anterior. Pasemos a importar lo que ya habíamos implementado."
   ]
  },
  {
   "cell_type": "code",
   "execution_count": 1,
   "metadata": {},
   "outputs": [
    {
     "output_type": "stream",
     "name": "stdout",
     "text": "importing Jupyter notebook from cp13.ipynb\n"
    }
   ],
   "source": [
    "import cmp.nbpackage\n",
    "import cmp.visitor as visitor\n",
    "\n",
    "from cp13 import G, text\n",
    "from cp13 import Node, ProgramNode, DeclarationNode, ExpressionNode\n",
    "from cp13 import ClassDeclarationNode, FuncDeclarationNode, AttrDeclarationNode\n",
    "from cp13 import VarDeclarationNode, AssignNode, CallNode\n",
    "from cp13 import AtomicNode, BinaryNode\n",
    "from cp13 import ConstantNumNode, VariableNode, InstantiateNode, PlusNode, MinusNode, StarNode, DivNode\n",
    "from cp13 import FormatVisitor, tokenize_text, pprint_tokens\n",
    "\n",
    "from cmp.tools.parsing import LR1Parser\n",
    "from cmp.evaluation import evaluate_reverse_parse"
   ]
  },
  {
   "cell_type": "markdown",
   "metadata": {},
   "source": [
    "La gramática `G` es la gramática que diseñamos para el lenguaje. Esta debe atrapar la sintaxis del lenguaje. Por otro lado, las reglas que incluimos al atributar la gramática deberían construir una representación sobre la que fuera cómodo comprobar la semántica del programa. Estamos hablando justamente del **AST**.\n",
    "\n",
    "Construyamos el siguiente método `run_pipeline`, el cual recibe una cadena de texto y una gramática, y pasará por las fases de análisis lexicográfico y sintácticto, y finalmente evaluará las reglas para devolvernos el AST."
   ]
  },
  {
   "cell_type": "code",
   "execution_count": 2,
   "metadata": {},
   "outputs": [
    {
     "output_type": "stream",
     "name": "stdout",
     "text": "=================== TEXT ======================\n\nclass A {\n    a : int ;\n    def suma ( a : int , b : int ) : int {\n        a + b ;\n    }\n    b : int ;\n}\n\nclass B : A {\n    c : A ;\n    def f ( d : int , a : A ) : void {\n        let f : int = 8 ;\n        let c = new A ( ) . suma ( 5 , f ) ;\n        c ;\n    }\n}\n\n================== TOKENS =====================\nclass id {\n    id : id ;\n    def id ( id : id , id : id ) : id {\n        id + id ;\n    }\n    id : id ;\n}\nclass id : id {\n    id : id ;\n    def id ( id : id , id : id ) : id {\n        let id : id = int ;\n        let id = new id ( ) . id ( int , id ) ;\n        id ;\n    }\n}\n$\n=================== PARSE =====================\n<def-attr> -> id : id ;\n<param> -> id : id\n<param> -> id : id\n<param-list> -> <param>\n<param-list> -> <param> , <param-list>\n<atom> -> id\n<factor> -> <atom>\n<term> -> <factor>\n<arith> -> <term>\n<atom> -> id\n<factor> -> <atom>\n<term> -> <factor>\n<arith> -> <arith> + <term>\n<expr> -> <arith>\n<expr-list> -> <expr> ;\n<def-func> -> def id ( <param-list> ) : id { <expr-list> }\n<def-attr> -> id : id ;\n<feature-list> -> <def-attr>\n<feature-list> -> <def-func> <feature-list>\n<feature-list> -> <def-attr> <feature-list>\n<def-class> -> class id { <feature-list> }\n<def-attr> -> id : id ;\n<param> -> id : id\n<param> -> id : id\n<param-list> -> <param>\n<param-list> -> <param> , <param-list>\n<atom> -> int\n<factor> -> <atom>\n<term> -> <factor>\n<arith> -> <term>\n<expr> -> <arith>\n<expr> -> let id : id = <expr>\n<atom> -> new id ( )\n<factor> -> <atom>\n<atom> -> int\n<factor> -> <atom>\n<term> -> <factor>\n<arith> -> <term>\n<expr> -> <arith>\n<atom> -> id\n<factor> -> <atom>\n<term> -> <factor>\n<arith> -> <term>\n<expr> -> <arith>\n<arg-list> -> <expr>\n<arg-list> -> <expr> , <arg-list>\n<func-call> -> <factor> . id ( <arg-list> )\n<factor> -> <func-call>\n<term> -> <factor>\n<arith> -> <term>\n<expr> -> <arith>\n<expr> -> let id = <expr>\n<atom> -> id\n<factor> -> <atom>\n<term> -> <factor>\n<arith> -> <term>\n<expr> -> <arith>\n<expr-list> -> <expr> ;\n<expr-list> -> <expr> ; <expr-list>\n<expr-list> -> <expr> ; <expr-list>\n<def-func> -> def id ( <param-list> ) : id { <expr-list> }\n<feature-list> -> <def-func>\n<feature-list> -> <def-attr> <feature-list>\n<def-class> -> class id : id { <feature-list> }\n<class-list> -> <def-class>\n<class-list> -> <def-class> <class-list>\n<program> -> <class-list>\n==================== AST ======================\n\\__ProgramNode [<class> ... <class>]\n\t\\__ClassDeclarationNode: class A  { <feature> ... <feature> }\n\t\t\\__AttrDeclarationNode: a : int\n\t\t\\__FuncDeclarationNode: def suma(a:int, b:int) : int -> <body>\n\t\t\t\\__<expr> PlusNode <expr>\n\t\t\t\t\\__ VariableNode: a\n\t\t\t\t\\__ VariableNode: b\n\t\t\\__AttrDeclarationNode: b : int\n\t\\__ClassDeclarationNode: class B : A { <feature> ... <feature> }\n\t\t\\__AttrDeclarationNode: c : A\n\t\t\\__FuncDeclarationNode: def f(d:int, a:A) : void -> <body>\n\t\t\t\\__VarDeclarationNode: let f : int = <expr>\n\t\t\t\t\\__ ConstantNumNode: 8\n\t\t\t\\__AssignNode: let c = <expr>\n\t\t\t\t\\__CallNode: <obj>.suma(<expr>, ..., <expr>)\n\t\t\t\t\t\\__ InstantiateNode: new A()\n\t\t\t\t\t\\__ ConstantNumNode: 5\n\t\t\t\t\t\\__ VariableNode: f\n\t\t\t\\__ VariableNode: c\n"
    }
   ],
   "source": [
    "def run_pipeline(G, text):\n",
    "    print('=================== TEXT ======================')\n",
    "    print(text)\n",
    "    print('================== TOKENS =====================')\n",
    "    tokens = tokenize_text(text)\n",
    "    pprint_tokens(tokens)\n",
    "    print('=================== PARSE =====================')\n",
    "    parser = LR1Parser(G)\n",
    "    parse, operations = parser([t.token_type for t in tokens], get_shift_reduce=True)\n",
    "    print('\\n'.join(repr(x) for x in parse))\n",
    "    print('==================== AST ======================')\n",
    "    ast = evaluate_reverse_parse(parse, operations, tokens)\n",
    "    formatter = FormatVisitor()\n",
    "    tree = formatter.visit(ast)\n",
    "    print(tree)\n",
    "    return ast\n",
    "    \n",
    "if __name__ == '__main__': ast = run_pipeline(G, text)"
   ]
  },
  {
   "cell_type": "markdown",
   "metadata": {},
   "source": [
    "## Chequeo semántico\n",
    "\n",
    "En `cmp.semantic` se distribuyen una serie de clases que funcionarán como soporte para la fase de chequeo semántico."
   ]
  },
  {
   "cell_type": "code",
   "execution_count": 3,
   "metadata": {},
   "outputs": [],
   "source": [
    "from cmp.semantic import SemanticError\n",
    "from cmp.semantic import Attribute, Method, Type\n",
    "from cmp.semantic import VoidType, ErrorType\n",
    "from cmp.semantic import Context"
   ]
  },
  {
   "cell_type": "markdown",
   "metadata": {},
   "source": [
    "- La clase `SemanticError` hereda de `Exception` para funcionar como mecanismo para manejar errores en los contextos. El campo `text` que poseen las instancias de `SemanticError` permite obtener el texto de error con el que se construyó.\n",
    "- Las clases `Attribute` y `Method` funcionan como contenedores de los datos necesarios para representar los atributos y métodos del lenguaje respectivamente. Del primero se almacena el nombre del campo (un `str)` y su tipo (una instancia de `Type`). Del segundo se almacenan: nombre del método (`str`), nombre de los parámetros (`list<str>`), tipos de los parámetros (`list<Type>`) y el tipo de retorno (`Type`).\n",
    "- La clase `Type` funciona como descriptor de todos los atributos y métodos con que cuentan los tipos del lenguaje. Esta clase permite crear instancias a partir del nombre del tipo (`Type(name)`) y posteriormente actualizar su definición con:\n",
    "    - tipo padre: `set_parent(...)`.\n",
    "    - atributos: `get_attributes(...)` y `define_attribute(...)`.\n",
    "    - métodos: `get_method(...)` y `define_method(...)`.\n",
    "\n",
    "> Para más información se recomienda revisar el código fuente disponible en `cmp.semantic`.\n",
    "\n",
    "- La clase `VoidType` puede usarse para manejar el tipo de retorno `void` de los métodos. Tiene la particularidad de que todas sus instancias son iguales entre sí.\n",
    "- La clase `ErrorType` puede usarse para manejar las situaciones en las que se refiere un tipo que no ha sido declarado. Esto nos permitirá detectar más errores que detener el chequeo semántico al primer error. Las instancias de `ErrorType` tiene la particularidad de ser iguales entre sí y a cualquier instancia de `Type`. Además, el tipo `ErrorType` se conforma (en el sentido de herencia) a todo tipo y viceversa.\n",
    "- La clase `Context` permite controlar los tipos que han sido definidos en el lenguaje.\n",
    "    - definir un tipo: `create_type(...)`.\n",
    "    - obtener un tipo: `get_type(...)`."
   ]
  },
  {
   "cell_type": "markdown",
   "metadata": {},
   "source": [
    "## Recolectando de tipos\n",
    "\n",
    "Dado que en este lenguaje los tipos pueden referenciarse antes de declararse, se vuelve necesario realizar un primer recorrido del AST recolectando todos los tipos. Esto lo haremos utilizando el patrón `visitor` con el que trabajamos en clases anteriores."
   ]
  },
  {
   "cell_type": "code",
   "execution_count": 4,
   "metadata": {},
   "outputs": [],
   "source": [
    "class TypeCollector(object):\n",
    "    def __init__(self, errors=[]):\n",
    "        self.context = None\n",
    "        self.errors = errors\n",
    "    \n",
    "    @visitor.on('node')\n",
    "    def visit(self, node):\n",
    "        pass\n",
    "    \n",
    "    @visitor.when(ProgramNode)\n",
    "    def visit(self, node):\n",
    "        self.context = Context()\n",
    "        self.context.create_type('int')\n",
    "        self.context.create_type('void')\n",
    "        for declaration in node.declarations:\n",
    "            self.visit(declaration)\n",
    "        \n",
    "    @visitor.when(ClassDeclarationNode)\n",
    "    def visit(self, node):\n",
    "        try:\n",
    "            self.context.create_type(node.id)\n",
    "        except SemanticError as e:\n",
    "            self.errors.append(e)\n",
    ""
   ]
  },
  {
   "cell_type": "markdown",
   "metadata": {},
   "source": [
    "Comprobemos que implementamos correctamente el recorrido. Tras visitar el AST deberíamos tener en el campo `context` del `visitor` todos los tipos definidos en el programa _... y algo más? ;-)_"
   ]
  },
  {
   "cell_type": "code",
   "execution_count": 5,
   "metadata": {},
   "outputs": [
    {
     "output_type": "stream",
     "name": "stdout",
     "text": "Errors: []\nContext:\n{\n\ttype int {}\n\t\n\ttype void {}\n\t\n\ttype A {}\n\t\n\ttype B {}\n\t\n}\n"
    }
   ],
   "source": [
    "if __name__ == '__main__':\n",
    "    errors = []\n",
    "\n",
    "    collector = TypeCollector(errors)\n",
    "    collector.visit(ast)\n",
    "\n",
    "    context = collector.context\n",
    "\n",
    "    print('Errors:', errors)\n",
    "    print('Context:')\n",
    "    print(context)\n",
    "\n",
    "    assert errors == []"
   ]
  },
  {
   "cell_type": "markdown",
   "metadata": {},
   "source": [
    "## Construyendo los tipos\n",
    "\n",
    "Pasemos ahora a construir los tipos. Pero _... realmente podremos comenzar ya a chequear todo el código? (incluyendo el cuerpo de los métodos)_. Resulta que no. En este lenguaje en orden en que se definen los métodos tampoco es relevante: _se pueden llamar antes de declararse_. Esto permite que haya recursividad en el lenguaje que lleva un chequeo extra antes de pasar a revisar los cuerpos de los métodos.\n",
    "\n",
    "Nótese que al haber recolectado ya todos los tipos, se logra que los parámetros, valores de retorno, y otras refencias a tipos, puedan ser resueltas en este recorrido sin problemas."
   ]
  },
  {
   "cell_type": "code",
   "execution_count": 6,
   "metadata": {},
   "outputs": [],
   "source": [
    "class TypeBuilder:\n",
    "    def __init__(self, context, errors=[]):\n",
    "        self.context = context\n",
    "        self.current_type = None\n",
    "        self.errors = errors\n",
    "    \n",
    "    @visitor.on('node')\n",
    "    def visit(self, node):\n",
    "        pass\n",
    "    \n",
    "    @visitor.when(ProgramNode)\n",
    "    def visit(self, node):\n",
    "        for declaration in node.declarations:\n",
    "            self.visit(declaration)\n",
    "    \n",
    "    @visitor.when(ClassDeclarationNode)\n",
    "    def visit(self, node):\n",
    "        try:\n",
    "            self.current_type = self.context.get_type(node.id)\n",
    "            if node.parent is not None:\n",
    "                self.current_type.set_parent(self.context.get_type(node.parent))\n",
    "        except SemanticError as e:\n",
    "            self.errors.append(e.text)\n",
    "        \n",
    "        for feature in node.features:\n",
    "            self.visit(feature)\n",
    "    \n",
    "    @visitor.when(AttrDeclarationNode)\n",
    "    def visit(self, node):\n",
    "        try:\n",
    "            name = node.id\n",
    "            typex = self.context.get_type(node.type)\n",
    "            self.current_type.define_attribute(name, typex)\n",
    "        except SemanticError as e:\n",
    "            self.errors.append(e.text)\n",
    "\n",
    "    @visitor.when(FuncDeclarationNode)\n",
    "    def visit(self, node):\n",
    "        try:\n",
    "            name = node.id\n",
    "            param_names = [p[0] for p in node.params]\n",
    "            param_types = [self.context.get_type(p[1]) for p in node.params]\n",
    "            return_type = self.context.get_type(node.type)\n",
    "            self.current_type.define_method(name, param_names, param_types, return_type)\n",
    "        except SemanticError as e:\n",
    "            self.errors.append(e.text)\n"
   ]
  },
  {
   "cell_type": "markdown",
   "metadata": {},
   "source": [
    "Comprobemos la implementación. Tras esta fase deberíamos tener completados todos los tipos."
   ]
  },
  {
   "cell_type": "code",
   "execution_count": 7,
   "metadata": {},
   "outputs": [
    {
     "output_type": "stream",
     "name": "stdout",
     "text": "Errors: []\nContext:\n{\n\ttype int {}\n\t\n\ttype void {}\n\t\n\ttype A {\n\t\t[attrib] a : int;\n\t\t[attrib] b : int;\n\t\t[method] suma(self:A, a:int, b:int): int;\n\t}\n\t\n\ttype B : A {\n\t\t[attrib] c : A;\n\t\t[method] f(self:B, d:int, a:A): void;\n\t}\n\t\n}\n"
    }
   ],
   "source": [
    "if __name__ == '__main__':\n",
    "    builder = TypeBuilder(context, errors)\n",
    "    builder.visit(ast)\n",
    "        \n",
    "    print('Errors:', errors)\n",
    "    print('Context:')\n",
    "    print(context)"
   ]
  },
  {
   "cell_type": "markdown",
   "metadata": {},
   "source": [
    "## Comprobando ..."
   ]
  },
  {
   "cell_type": "code",
   "execution_count": 8,
   "metadata": {},
   "outputs": [],
   "source": [
    "deprecated_pipeline = run_pipeline"
   ]
  },
  {
   "cell_type": "markdown",
   "metadata": {},
   "source": [
    "Actualizaremos el pipeline para incluir estos 2 recorridos."
   ]
  },
  {
   "cell_type": "code",
   "execution_count": 9,
   "metadata": {},
   "outputs": [],
   "source": [
    "def run_pipeline(G, text):\n",
    "    ast = deprecated_pipeline(G, text)\n",
    "    print('============== COLLECTING TYPES ===============')\n",
    "    errors = []\n",
    "    collector = TypeCollector(errors)\n",
    "    collector.visit(ast)\n",
    "    context = collector.context\n",
    "    print('Errors:', errors)\n",
    "    print('Context:')\n",
    "    print(context)\n",
    "    print('=============== BUILDING TYPES ================')\n",
    "    builder = TypeBuilder(context, errors)\n",
    "    builder.visit(ast)\n",
    "    print('Errors: [')\n",
    "    for error in errors:\n",
    "        print('\\t', error)\n",
    "    print(']')\n",
    "    print('Context:')\n",
    "    print(context)\n",
    "    return ast, errors, context"
   ]
  },
  {
   "cell_type": "markdown",
   "metadata": {},
   "source": [
    "### Programa #1\n",
    "\n",
    "El siguiente programa es con el que hemos estado trabajando y no debería contener errores."
   ]
  },
  {
   "cell_type": "code",
   "execution_count": 10,
   "metadata": {},
   "outputs": [
    {
     "output_type": "stream",
     "name": "stdout",
     "text": "=================== TEXT ======================\n\nclass A {\n    a : int ;\n    def suma ( a : int , b : int ) : int {\n        a + b ;\n    }\n    b : int ;\n}\n\nclass B : A {\n    c : A ;\n    def f ( d : int , a : A ) : void {\n        let f : int = 8 ;\n        let c = new A ( ) . suma ( 5 , f ) ;\n        c ;\n    }\n}\n\n================== TOKENS =====================\nclass id {\n    id : id ;\n    def id ( id : id , id : id ) : id {\n        id + id ;\n    }\n    id : id ;\n}\nclass id : id {\n    id : id ;\n    def id ( id : id , id : id ) : id {\n        let id : id = int ;\n        let id = new id ( ) . id ( int , id ) ;\n        id ;\n    }\n}\n$\n=================== PARSE =====================\n<def-attr> -> id : id ;\n<param> -> id : id\n<param> -> id : id\n<param-list> -> <param>\n<param-list> -> <param> , <param-list>\n<atom> -> id\n<factor> -> <atom>\n<term> -> <factor>\n<arith> -> <term>\n<atom> -> id\n<factor> -> <atom>\n<term> -> <factor>\n<arith> -> <arith> + <term>\n<expr> -> <arith>\n<expr-list> -> <expr> ;\n<def-func> -> def id ( <param-list> ) : id { <expr-list> }\n<def-attr> -> id : id ;\n<feature-list> -> <def-attr>\n<feature-list> -> <def-func> <feature-list>\n<feature-list> -> <def-attr> <feature-list>\n<def-class> -> class id { <feature-list> }\n<def-attr> -> id : id ;\n<param> -> id : id\n<param> -> id : id\n<param-list> -> <param>\n<param-list> -> <param> , <param-list>\n<atom> -> int\n<factor> -> <atom>\n<term> -> <factor>\n<arith> -> <term>\n<expr> -> <arith>\n<expr> -> let id : id = <expr>\n<atom> -> new id ( )\n<factor> -> <atom>\n<atom> -> int\n<factor> -> <atom>\n<term> -> <factor>\n<arith> -> <term>\n<expr> -> <arith>\n<atom> -> id\n<factor> -> <atom>\n<term> -> <factor>\n<arith> -> <term>\n<expr> -> <arith>\n<arg-list> -> <expr>\n<arg-list> -> <expr> , <arg-list>\n<func-call> -> <factor> . id ( <arg-list> )\n<factor> -> <func-call>\n<term> -> <factor>\n<arith> -> <term>\n<expr> -> <arith>\n<expr> -> let id = <expr>\n<atom> -> id\n<factor> -> <atom>\n<term> -> <factor>\n<arith> -> <term>\n<expr> -> <arith>\n<expr-list> -> <expr> ;\n<expr-list> -> <expr> ; <expr-list>\n<expr-list> -> <expr> ; <expr-list>\n<def-func> -> def id ( <param-list> ) : id { <expr-list> }\n<feature-list> -> <def-func>\n<feature-list> -> <def-attr> <feature-list>\n<def-class> -> class id : id { <feature-list> }\n<class-list> -> <def-class>\n<class-list> -> <def-class> <class-list>\n<program> -> <class-list>\n==================== AST ======================\n\\__ProgramNode [<class> ... <class>]\n\t\\__ClassDeclarationNode: class A  { <feature> ... <feature> }\n\t\t\\__AttrDeclarationNode: a : int\n\t\t\\__FuncDeclarationNode: def suma(a:int, b:int) : int -> <body>\n\t\t\t\\__<expr> PlusNode <expr>\n\t\t\t\t\\__ VariableNode: a\n\t\t\t\t\\__ VariableNode: b\n\t\t\\__AttrDeclarationNode: b : int\n\t\\__ClassDeclarationNode: class B : A { <feature> ... <feature> }\n\t\t\\__AttrDeclarationNode: c : A\n\t\t\\__FuncDeclarationNode: def f(d:int, a:A) : void -> <body>\n\t\t\t\\__VarDeclarationNode: let f : int = <expr>\n\t\t\t\t\\__ ConstantNumNode: 8\n\t\t\t\\__AssignNode: let c = <expr>\n\t\t\t\t\\__CallNode: <obj>.suma(<expr>, ..., <expr>)\n\t\t\t\t\t\\__ InstantiateNode: new A()\n\t\t\t\t\t\\__ ConstantNumNode: 5\n\t\t\t\t\t\\__ VariableNode: f\n\t\t\t\\__ VariableNode: c\n============== COLLECTING TYPES ===============\nErrors: []\nContext:\n{\n\ttype int {}\n\t\n\ttype void {}\n\t\n\ttype A {}\n\t\n\ttype B {}\n\t\n}\n=============== BUILDING TYPES ================\nErrors: [\n]\nContext:\n{\n\ttype int {}\n\t\n\ttype void {}\n\t\n\ttype A {\n\t\t[attrib] a : int;\n\t\t[attrib] b : int;\n\t\t[method] suma(self:A, a:int, b:int): int;\n\t}\n\t\n\ttype B : A {\n\t\t[attrib] c : A;\n\t\t[method] f(self:B, d:int, a:A): void;\n\t}\n\t\n}\n"
    }
   ],
   "source": [
    "from cp13 import text\n",
    "\n",
    "if __name__ == '__main__': \n",
    "    ast, errors, context = run_pipeline(G, text)\n",
    "    assert errors == []"
   ]
  },
  {
   "cell_type": "markdown",
   "metadata": {},
   "source": [
    "### Programa #2\n",
    "\n",
    "Se incluyeron varios errores al programa anterior. Intente detectar todos los errores posibles."
   ]
  },
  {
   "cell_type": "code",
   "execution_count": 11,
   "metadata": {},
   "outputs": [
    {
     "output_type": "stream",
     "name": "stdout",
     "text": "=================== TEXT ======================\n\n    class A {\n        a : Z ;\n        def suma ( a : int , b : B ) : int {\n            a + b ;\n        }\n        b : int ;\n        c : C ;\n    }\n\n    class B : A {\n        c : A ;\n        def f ( d : int , a : A ) : void {\n            let f : int = 8 ;\n            let c = new A ( ) . suma ( 5 , f ) ;\n            c ;\n        }\n        z : int ;\n        z : A ;\n    }\n\n    class C : Z {\n    }\n\n    class D : A {\n        def suma ( a : int , d : B ) : int {\n            d ;\n        }\n    }\n\n    class E : A {\n        def suma ( a : A , b : B ) : int {\n            a ;\n        }\n    }\n\n    class F : B {\n        def f ( d : int , a : A ) : void {\n            a ;\n        }\n    }\n    \n================== TOKENS =====================\nclass id {\n    id : id ;\n    def id ( id : id , id : id ) : id {\n        id + id ;\n    }\n    id : id ;\n    id : id ;\n}\nclass id : id {\n    id : id ;\n    def id ( id : id , id : id ) : id {\n        let id : id = int ;\n        let id = new id ( ) . id ( int , id ) ;\n        id ;\n    }\n    id : id ;\n    id : id ;\n}\nclass id : id {\n}\nclass id : id {\n    def id ( id : id , id : id ) : id {\n        id ;\n    }\n}\nclass id : id {\n    def id ( id : id , id : id ) : id {\n        id ;\n    }\n}\nclass id : id {\n    def id ( id : id , id : id ) : id {\n        id ;\n    }\n}\n$\n=================== PARSE =====================\n<def-attr> -> id : id ;\n<param> -> id : id\n<param> -> id : id\n<param-list> -> <param>\n<param-list> -> <param> , <param-list>\n<atom> -> id\n<factor> -> <atom>\n<term> -> <factor>\n<arith> -> <term>\n<atom> -> id\n<factor> -> <atom>\n<term> -> <factor>\n<arith> -> <arith> + <term>\n<expr> -> <arith>\n<expr-list> -> <expr> ;\n<def-func> -> def id ( <param-list> ) : id { <expr-list> }\n<def-attr> -> id : id ;\n<def-attr> -> id : id ;\n<feature-list> -> <def-attr>\n<feature-list> -> <def-attr> <feature-list>\n<feature-list> -> <def-func> <feature-list>\n<feature-list> -> <def-attr> <feature-list>\n<def-class> -> class id { <feature-list> }\n<def-attr> -> id : id ;\n<param> -> id : id\n<param> -> id : id\n<param-list> -> <param>\n<param-list> -> <param> , <param-list>\n<atom> -> int\n<factor> -> <atom>\n<term> -> <factor>\n<arith> -> <term>\n<expr> -> <arith>\n<expr> -> let id : id = <expr>\n<atom> -> new id ( )\n<factor> -> <atom>\n<atom> -> int\n<factor> -> <atom>\n<term> -> <factor>\n<arith> -> <term>\n<expr> -> <arith>\n<atom> -> id\n<factor> -> <atom>\n<term> -> <factor>\n<arith> -> <term>\n<expr> -> <arith>\n<arg-list> -> <expr>\n<arg-list> -> <expr> , <arg-list>\n<func-call> -> <factor> . id ( <arg-list> )\n<factor> -> <func-call>\n<term> -> <factor>\n<arith> -> <term>\n<expr> -> <arith>\n<expr> -> let id = <expr>\n<atom> -> id\n<factor> -> <atom>\n<term> -> <factor>\n<arith> -> <term>\n<expr> -> <arith>\n<expr-list> -> <expr> ;\n<expr-list> -> <expr> ; <expr-list>\n<expr-list> -> <expr> ; <expr-list>\n<def-func> -> def id ( <param-list> ) : id { <expr-list> }\n<def-attr> -> id : id ;\n<def-attr> -> id : id ;\n<feature-list> -> <def-attr>\n<feature-list> -> <def-attr> <feature-list>\n<feature-list> -> <def-func> <feature-list>\n<feature-list> -> <def-attr> <feature-list>\n<def-class> -> class id : id { <feature-list> }\n<def-class> -> class id : id { }\n<param> -> id : id\n<param> -> id : id\n<param-list> -> <param>\n<param-list> -> <param> , <param-list>\n<atom> -> id\n<factor> -> <atom>\n<term> -> <factor>\n<arith> -> <term>\n<expr> -> <arith>\n<expr-list> -> <expr> ;\n<def-func> -> def id ( <param-list> ) : id { <expr-list> }\n<feature-list> -> <def-func>\n<def-class> -> class id : id { <feature-list> }\n<param> -> id : id\n<param> -> id : id\n<param-list> -> <param>\n<param-list> -> <param> , <param-list>\n<atom> -> id\n<factor> -> <atom>\n<term> -> <factor>\n<arith> -> <term>\n<expr> -> <arith>\n<expr-list> -> <expr> ;\n<def-func> -> def id ( <param-list> ) : id { <expr-list> }\n<feature-list> -> <def-func>\n<def-class> -> class id : id { <feature-list> }\n<param> -> id : id\n<param> -> id : id\n<param-list> -> <param>\n<param-list> -> <param> , <param-list>\n<atom> -> id\n<factor> -> <atom>\n<term> -> <factor>\n<arith> -> <term>\n<expr> -> <arith>\n<expr-list> -> <expr> ;\n<def-func> -> def id ( <param-list> ) : id { <expr-list> }\n<feature-list> -> <def-func>\n<def-class> -> class id : id { <feature-list> }\n<class-list> -> <def-class>\n<class-list> -> <def-class> <class-list>\n<class-list> -> <def-class> <class-list>\n<class-list> -> <def-class> <class-list>\n<class-list> -> <def-class> <class-list>\n<class-list> -> <def-class> <class-list>\n<program> -> <class-list>\n==================== AST ======================\n\\__ProgramNode [<class> ... <class>]\n\t\\__ClassDeclarationNode: class A  { <feature> ... <feature> }\n\t\t\\__AttrDeclarationNode: a : Z\n\t\t\\__FuncDeclarationNode: def suma(a:int, b:B) : int -> <body>\n\t\t\t\\__<expr> PlusNode <expr>\n\t\t\t\t\\__ VariableNode: a\n\t\t\t\t\\__ VariableNode: b\n\t\t\\__AttrDeclarationNode: b : int\n\t\t\\__AttrDeclarationNode: c : C\n\t\\__ClassDeclarationNode: class B : A { <feature> ... <feature> }\n\t\t\\__AttrDeclarationNode: c : A\n\t\t\\__FuncDeclarationNode: def f(d:int, a:A) : void -> <body>\n\t\t\t\\__VarDeclarationNode: let f : int = <expr>\n\t\t\t\t\\__ ConstantNumNode: 8\n\t\t\t\\__AssignNode: let c = <expr>\n\t\t\t\t\\__CallNode: <obj>.suma(<expr>, ..., <expr>)\n\t\t\t\t\t\\__ InstantiateNode: new A()\n\t\t\t\t\t\\__ ConstantNumNode: 5\n\t\t\t\t\t\\__ VariableNode: f\n\t\t\t\\__ VariableNode: c\n\t\t\\__AttrDeclarationNode: z : int\n\t\t\\__AttrDeclarationNode: z : A\n\t\\__ClassDeclarationNode: class C : Z { <feature> ... <feature> }\n\n\t\\__ClassDeclarationNode: class D : A { <feature> ... <feature> }\n\t\t\\__FuncDeclarationNode: def suma(a:int, d:B) : int -> <body>\n\t\t\t\\__ VariableNode: d\n\t\\__ClassDeclarationNode: class E : A { <feature> ... <feature> }\n\t\t\\__FuncDeclarationNode: def suma(a:A, b:B) : int -> <body>\n\t\t\t\\__ VariableNode: a\n\t\\__ClassDeclarationNode: class F : B { <feature> ... <feature> }\n\t\t\\__FuncDeclarationNode: def f(d:int, a:A) : void -> <body>\n\t\t\t\\__ VariableNode: a\n============== COLLECTING TYPES ===============\nErrors: []\nContext:\n{\n\ttype int {}\n\t\n\ttype void {}\n\t\n\ttype A {}\n\t\n\ttype B {}\n\t\n\ttype C {}\n\t\n\ttype D {}\n\t\n\ttype E {}\n\t\n\ttype F {}\n\t\n}\n=============== BUILDING TYPES ================\nErrors: [\n\t Type \"Z\" is not defined.\n\t Attribute \"c\" is already defined in B.\n\t Attribute \"z\" is already defined in B.\n\t Type \"Z\" is not defined.\n]\nContext:\n{\n\ttype int {}\n\t\n\ttype void {}\n\t\n\ttype A {\n\t\t[attrib] b : int;\n\t\t[attrib] c : C;\n\t\t[method] suma(self:A, a:int, b:B): int;\n\t}\n\t\n\ttype B : A {\n\t\t[attrib] z : int;\n\t\t[method] f(self:B, d:int, a:A): void;\n\t}\n\t\n\ttype C {}\n\t\n\ttype D : A {\n\t\t[method] suma(self:D, a:int, d:B): int;\n\t}\n\t\n\ttype E : A {\n\t\t[method] suma(self:E, a:A, b:B): int;\n\t}\n\t\n\ttype F : B {\n\t\t[method] f(self:F, d:int, a:A): void;\n\t}\n\t\n}\n"
    }
   ],
   "source": [
    "if __name__ == '__main__': \n",
    "    text = '''\n",
    "    class A {\n",
    "        a : Z ;\n",
    "        def suma ( a : int , b : B ) : int {\n",
    "            a + b ;\n",
    "        }\n",
    "        b : int ;\n",
    "        c : C ;\n",
    "    }\n",
    "\n",
    "    class B : A {\n",
    "        c : A ;\n",
    "        def f ( d : int , a : A ) : void {\n",
    "            let f : int = 8 ;\n",
    "            let c = new A ( ) . suma ( 5 , f ) ;\n",
    "            c ;\n",
    "        }\n",
    "        z : int ;\n",
    "        z : A ;\n",
    "    }\n",
    "\n",
    "    class C : Z {\n",
    "    }\n",
    "\n",
    "    class D : A {\n",
    "        def suma ( a : int , d : B ) : int {\n",
    "            d ;\n",
    "        }\n",
    "    }\n",
    "\n",
    "    class E : A {\n",
    "        def suma ( a : A , b : B ) : int {\n",
    "            a ;\n",
    "        }\n",
    "    }\n",
    "\n",
    "    class F : B {\n",
    "        def f ( d : int , a : A ) : void {\n",
    "            a ;\n",
    "        }\n",
    "    }\n",
    "    '''\n",
    "\n",
    "    ast, errors, context = run_pipeline(G, text)\n",
    "\n",
    "    assert sorted(errors) == sorted([\n",
    "         'Type \"Z\" is not defined.',\n",
    "         'Attribute \"c\" is already defined in B.',\n",
    "         'Attribute \"z\" is already defined in B.',\n",
    "         'Type \"Z\" is not defined.'\n",
    "    ])"
   ]
  },
  {
   "cell_type": "markdown",
   "metadata": {},
   "source": [
    "## Propuestas\n",
    "\n",
    "- Compruebe el hecho de que todo programa del lenguaje deba tener una clase `Main` con un método `main`.\n",
    "- Garantice que no haya circularidad de tipos.\n",
    "\n",
    "> El siguente programa tiene un problema: la defición de `A` y `B` forma un ciclo.\n",
    ">\n",
    ">```python\n",
    ">text = '''\n",
    ">class A : B {\n",
    ">}\n",
    ">class B : A {\n",
    ">}\n",
    ">'''\n",
    ">\n",
    ">ast, errors, context = run_pipeline(G, text)\n",
    ">assert len(errors) != 0\n",
    ">```\n",
    "\n",
    "- Verifique que no hayan sobrecargas de métodos\n",
    "\n",
    "> El método `f` ya está definido en `B` con una firma distinta.\n",
    ">```python\n",
    ">text = '''\n",
    ">class A {\n",
    ">    def f ( a : int , d : int ) : int {\n",
    ">        d ;\n",
    ">    }\n",
    ">}\n",
    ">class B : A {\n",
    ">    def f ( a : A , d : int ) : A {\n",
    ">        d ;\n",
    ">    }\n",
    ">}\n",
    ">'''\n",
    ">\n",
    ">ast, errors, context = run_pipeline(G, text)\n",
    ">assert len(errors) != 0\n",
    ">```"
   ]
  },
  {
   "cell_type": "markdown",
   "metadata": {},
   "source": [
    "### Main Checker"
   ]
  },
  {
   "cell_type": "code",
   "execution_count": 12,
   "metadata": {},
   "outputs": [],
   "source": [
    "def check_main(context, errors):\n",
    "    try:\n",
    "        class_main = context.get_type('Main')\n",
    "        method_main = class_main.get_method('main')\n",
    "    except SemanticError as e:\n",
    "        errors.append(e.text)\n",
    ""
   ]
  },
  {
   "cell_type": "code",
   "execution_count": 13,
   "metadata": {},
   "outputs": [],
   "source": [
    "if __name__ == '__main__':\n",
    "    check_main(context, errors)\n",
    "    errors"
   ]
  }
 ],
 "metadata": {
  "kernelspec": {
   "display_name": "Python 3",
   "language": "python",
   "name": "python3"
  },
  "language_info": {
   "codemirror_mode": {
    "name": "ipython",
    "version": 3
   },
   "file_extension": ".py",
   "mimetype": "text/x-python",
   "name": "python",
   "nbconvert_exporter": "python",
   "pygments_lexer": "ipython3",
   "version": "3.7.3-final"
  }
 },
 "nbformat": 4,
 "nbformat_minor": 4
}