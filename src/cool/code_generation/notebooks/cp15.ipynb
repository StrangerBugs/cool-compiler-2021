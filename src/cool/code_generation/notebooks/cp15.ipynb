{
 "cells": [
  {
   "cell_type": "markdown",
   "metadata": {},
   "source": [
    "# Clase Práctica #15 (Compilación)\n",
    "\n",
    "En esta clase implementaremos la fase final de chequeo semántico para el lenguaje que comenzamos a estudiar en clases anteriores. Pasemos a importar lo que ya habíamos implementado."
   ]
  },
  {
   "cell_type": "markdown",
   "metadata": {},
   "source": [
    "### Análisis Lexicográfico y Sintáctico"
   ]
  },
  {
   "cell_type": "code",
   "execution_count": 18,
   "metadata": {},
   "outputs": [],
   "source": [
    "import cmp.nbpackage\n",
    "import cmp.visitor as visitor\n",
    "\n",
    "from cp13 import G, text\n",
    "from cp13 import Node, ProgramNode, DeclarationNode, ExpressionNode\n",
    "from cp13 import ClassDeclarationNode, FuncDeclarationNode, AttrDeclarationNode\n",
    "from cp13 import VarDeclarationNode, AssignNode, CallNode\n",
    "from cp13 import AtomicNode, BinaryNode\n",
    "from cp13 import ConstantNumNode, VariableNode, InstantiateNode, PlusNode, MinusNode, StarNode, DivNode\n",
    "from cp13 import FormatVisitor, tokenize_text, pprint_tokens\n",
    "\n",
    "from cmp.tools.parsing import LR1Parser\n",
    "from cmp.evaluation import evaluate_reverse_parse"
   ]
  },
  {
   "cell_type": "markdown",
   "metadata": {},
   "source": [
    "### Análisis Semántico (Recolección y Construcción de Tipos)"
   ]
  },
  {
   "cell_type": "code",
   "execution_count": 22,
   "metadata": {},
   "outputs": [],
   "source": [
    "from cmp.semantic import SemanticError\n",
    "from cmp.semantic import Attribute, Method, Type\n",
    "from cmp.semantic import VoidType, ErrorType, IntType\n",
    "from cmp.semantic import Context\n",
    "\n",
    "from cp14 import TypeCollector, TypeBuilder, run_pipeline"
   ]
  },
  {
   "cell_type": "markdown",
   "metadata": {},
   "source": [
    "## Chequeo de tipos\n",
    "\n",
    "Estaremos validando que el programa haga un uso correcto de los tipos definidos. Recordemos algunas de las características del lenguaje que queremos comprobar:\n",
    "- Todos los métodos son de instancia y dentro de ellos es visible `self` _(solo lectura)_, cuyo tipo estático coincide con el de la clase que implementa el método.\n",
    "- Al invocar un método, se evalúa primero la expresión que devuelve el objeto, luego los parámetros, y por último se llama la función.\n",
    "- Todos los atributos son privados y todos los métodos son públicos.\n",
    "- Un método se puede sobrescribir sí y solo sí se mantiene exactamente la misma definición para los tipos de retorno y de los argumentos.\n",
    "- La expresión `let` tiene la sintaxis: `let <var>: <type> = <expr>` y evalúa al valor de la expresión (y con el tipo estático de la expresión). La variable `<var>` no puede estar previamente definida en ese ámbito. Se puede omitir la declaración del tipo y en tal caso la variable `<var>` ya debe estar definida y se realiza la asignación.\n",
    "- Las operaciones `+`, `-`, `*` y `/` están definidas únicamente entre valores enteros, y devuelven enteros."
   ]
  },
  {
   "cell_type": "code",
   "execution_count": null,
   "metadata": {},
   "outputs": [],
   "source": [
    "WRONG_SIGNATURE = 'Method \"%s\" already defined in \"%s\" with a different signature.'\n",
    "SELF_IS_READONLY = 'Variable \"self\" is read-only.'\n",
    "LOCAL_ALREADY_DEFINED = 'Variable \"%s\" is already defined in method \"%s\".'\n",
    "INCOMPATIBLE_TYPES = 'Cannot convert \"%s\" into \"%s\".'\n",
    "VARIABLE_NOT_DEFINED = 'Variable \"%s\" is not defined in \"%s\".'\n",
    "INVALID_OPERATION = 'Operation is not defined between \"%s\" and \"%s\".'"
   ]
  },
  {
   "cell_type": "markdown",
   "metadata": {},
   "source": [
    "La clase `Type` ha sido extendida para incluir la función `conforms_to`. Recordemos que esta relación indica que un objeto de tipo `C` puede ser usado en lugar de un objeto de tipo `P`. En tal caso decimos que `C.conforms_to(P)`. La relación de conformidad es crucial en los lenguajes de programación orientados a objetos pues restringirá las asignaciones e invocaciones para garantizar el principio de sustitución."
   ]
  },
  {
   "cell_type": "markdown",
   "metadata": {},
   "source": [
    "### Ámbito (Scope)\n",
    "\n",
    "Se provee una implementación de la clase `Scope` en `cmp.semantic`. Esta clase nos permitirá gestionar las variables definidas en los distintos niveles de visibilidad, así como saber con qué tipo se definieron. Los métodos fundamentales son:\n",
    "- `create_child`: Crea un `scope` hijo que hereda las variables visibles hasta ese momento en el `scope` padre.\n",
    "- `define_variable`: Registra localmente una variable en el `scope` a partir de su nombre y tipo.\n",
    "- `find_variable`: Devuelve un `VariableInfo` con la información de la variable consultada (a partir de su nombre). La variable devuelta no tiene por qué estar definida localmente. En caso de que la variable no esté definida devuelve `None`.\n",
    "- `is_defined`: Indica si la variable consultada es visible en el `scope`.\n",
    "- `is_local`: Indica si la variable consultada está definida localmente en el `scope`."
   ]
  },
  {
   "cell_type": "code",
   "execution_count": 28,
   "metadata": {},
   "outputs": [],
   "source": [
    "from cmp.semantic import Scope"
   ]
  },
  {
   "cell_type": "markdown",
   "metadata": {},
   "source": [
    "### Type Checker Visitor\n",
    "\n",
    "Implementaremos un nuevo recorrido sobre el AST. Como de costumbre nos apoyaremos en el patrón visitor. Debemos caminar desde la raíz del AST (`ProgramNode`) hasta el cuerpo de los métodos. En esta ocasión además, verificaremos que los métodos construidos en el recorrido anterior no hayan tenido sobrecargas distintas a lo largo del árbol de herencia."
   ]
  },
  {
   "cell_type": "code",
   "execution_count": null,
   "metadata": {},
   "outputs": [],
   "source": [
    "class TypeChecker:\n",
    "    def __init__(self, context, errors=[]):\n",
    "        self.context = context\n",
    "        self.current_type = None\n",
    "        self.current_method = None\n",
    "        self.errors = errors\n",
    "\n",
    "    @visitor.on('node')\n",
    "    def visit(self, node, scope):\n",
    "        pass\n",
    "\n",
    "    @visitor.when(ProgramNode)\n",
    "    def visit(self, node, scope=None):\n",
    "        scope = Scope()\n",
    "        for declaration in node.declarations:\n",
    "            self.visit(declaration, scope.create_child())\n",
    "        return scope\n",
    "\n",
    "    @visitor.when(ClassDeclarationNode)\n",
    "    def visit(self, node, scope):\n",
    "        self.current_type = self.context.get_type(node.id)\n",
    "        \n",
    "        attrs = [f for f in node.features if isinstance(f, AttrDeclarationNode)]\n",
    "        funcs = [f for f in node.features if isinstance(f, FuncDeclarationNode)]\n",
    "        \n",
    "        for attr in attrs:\n",
    "            self.visit(attr, scope)\n",
    "        \n",
    "        for func in funcs:\n",
    "            self.visit(func, scope.create_child())\n",
    "        \n",
    "    @visitor.when(AttrDeclarationNode)\n",
    "    def visit(self, node, scope):\n",
    "        typex = self.context.get_type(node.type)\n",
    "        scope.define_variable(node.id, typex)\n",
    "\n",
    "    @visitor.when(FuncDeclarationNode)\n",
    "    def visit(self, node, scope):\n",
    "        method = self.current_method = self.current_type.get_method(node.id)\n",
    "        param_types = [t.name for t in method.param_types]\n",
    "        return_type = method.return_type\n",
    "\n",
    "        # checking overriding\n",
    "        parent = self.current_type.parent\n",
    "        while parent is not None:\n",
    "            try:\n",
    "                if method != parent.get_method(node.id):\n",
    "                    self.errors.append(WRONG_SIGNATURE % (node.id, parent.name))\n",
    "                    break\n",
    "                parent = parent.parent\n",
    "            except SemanticError:\n",
    "                break\n",
    "        \n",
    "        scope.define_variable('self', self.current_type)\n",
    "        for n, t in zip(method.param_names, method.param_types):\n",
    "            scope.define_variable(n, t)\n",
    "        \n",
    "        child_scope = scope.create_child()\n",
    "        for expr in node.body:\n",
    "            self.visit(expr, child_scope)\n",
    "    \n",
    "    @visitor.when(VarDeclarationNode)\n",
    "    def visit(self, node, scope):\n",
    "        if scope.is_defined(node.id):\n",
    "            self.errors.append(LOCAL_ALREADY_DEFINED % (node.id, self.current_method.name))\n",
    "        \n",
    "        var_type = self.context.get_type(node.type)\n",
    "        expr_type = self.visit(node.expr, scope)\n",
    "        \n",
    "        if not expr_type.conforms_to(var_type):\n",
    "            self.errors.append(INCOMPATIBLE_TYPES % (expr_type.name, var_type.name))\n",
    "        \n",
    "        scope.define_variable(node.id, var_type)\n",
    "        \n",
    "        return var_type\n",
    "                       \n",
    "    @visitor.when(AssignNode)\n",
    "    def visit(self, node, scope):\n",
    "        if node.id == 'self':\n",
    "            self.errors.append(SELF_IS_READONLY)\n",
    "        \n",
    "        elif not scope.is_defined(node.id):\n",
    "            self.errors.append(VARIABLE_NOT_DEFINED % (node.id, self.current_type.name))\n",
    "        \n",
    "        var_type = scope.find_variable(node.id).type\n",
    "        expr_type = self.visit(node.expr, scope)\n",
    "        \n",
    "        if not expr_type.conforms_to(var_type):\n",
    "            self.errors.append(INCOMPATIBLE_TYPES % (expr_type.name, var_type.name))\n",
    "        \n",
    "        return var_type\n",
    "    \n",
    "    @visitor.when(CallNode)\n",
    "    def visit(self, node, scope):\n",
    "        obj_type = self.visit(node.obj, scope)\n",
    "        \n",
    "        try:\n",
    "            args = node.args\n",
    "            method = obj_type.get_method(node.id)\n",
    "            param_types = method.param_types\n",
    "            \n",
    "            for arg, param_type in zip(args, param_types):\n",
    "                arg_type = self.visit(arg, scope)\n",
    "                if not arg_type.conforms_to(param_type):\n",
    "                    self.errors.append(INCOMPATIBLE_TYPES % (arg_type.name, param_type.name))\n",
    "            \n",
    "            return method.return_type\n",
    "        except SemanticError as e:\n",
    "            self.errors.append(e.text)\n",
    "            return ErrorType()\n",
    "    \n",
    "    @visitor.when(BinaryNode)\n",
    "    def visit(self, node, scope):\n",
    "        left_type = self.visit(node.left, scope)\n",
    "        right_type = self.visit(node.right, scope)\n",
    "        \n",
    "        if IntType() != left_type or IntType() != right_type:\n",
    "            self.errors.append(INVALID_OPERATION % (left_type.name, right_type.name))\n",
    "        \n",
    "        return IntType()\n",
    "    \n",
    "    @visitor.when(ConstantNumNode)\n",
    "    def visit(self, node, scope):\n",
    "        return IntType()\n",
    "\n",
    "    @visitor.when(VariableNode)\n",
    "    def visit(self, node, scope):\n",
    "        var = scope.find_variable(node.lex)\n",
    "        if var is not None:\n",
    "            return var.type\n",
    "        else:\n",
    "            self.errors.append(VARIABLE_NOT_DEFINED % (node.lex, self.current_type.name))\n",
    "            return ErrorType()\n",
    "\n",
    "    @visitor.when(InstantiateNode)\n",
    "    def visit(self, node, scope):\n",
    "        try:\n",
    "            return self.context.get_type(node.lex)\n",
    "        except SemanticError as e:\n",
    "            self.errors.append(e.text)\n",
    "            return ErrorType()\n",
    ""
   ]
  },
  {
   "cell_type": "markdown",
   "metadata": {},
   "source": [
    "### Pipeline\n",
    "\n",
    "Actualicemos el método `run_pipeline` para incluir esta nueva fase. Con eso deberíamos completar una línea de ejecución para llegar al final del chequeo semántico partiendo desde el programa en texto plano y la gramática."
   ]
  },
  {
   "cell_type": "code",
   "execution_count": 32,
   "metadata": {},
   "outputs": [],
   "source": [
    "from cp14 import run_pipeline as deprecated_pipeline\n",
    "\n",
    "def run_pipeline(G, text):\n",
    "    ast, errors, context = deprecated_pipeline(G, text)\n",
    "    print('=============== CHECKING TYPES ================')\n",
    "    checker = TypeChecker(context, errors)\n",
    "    scope = checker.visit(ast)\n",
    "    print('Errors: [')\n",
    "    for error in errors:\n",
    "        print('\\t', error)\n",
    "    print(']')\n",
    "    return ast, errors, context, scope"
   ]
  },
  {
   "cell_type": "markdown",
   "metadata": {},
   "source": [
    "### Programa #1\n",
    "\n",
    "El siguiente programa no debería contener errores."
   ]
  },
  {
   "cell_type": "code",
   "execution_count": 34,
   "metadata": {},
   "outputs": [
    {
     "output_type": "stream",
     "name": "stdout",
     "text": "=================== TEXT ======================\n\nclass A {\n    a : int ;\n    def suma ( a : int , b : int ) : int {\n        a + b ;\n    }\n    b : int ;\n}\n\nclass B : A {\n    c : int ;\n    def f ( d : int , a : A ) : void {\n        let f : int = 8 ;\n        let c = new A ( ) . suma ( 5 , f ) ;\n        c ;\n    }\n}\n\n================== TOKENS =====================\nclass id {\n    id : id ;\n    def id ( id : id , id : id ) : id {\n        id + id ;\n    }\n    id : id ;\n}\nclass id : id {\n    id : id ;\n    def id ( id : id , id : id ) : id {\n        let id : id = int ;\n        let id = new id ( ) . id ( int , id ) ;\n        id ;\n    }\n}\n$\n=================== PARSE =====================\n<def-attr> -> id : id ;\n<param> -> id : id\n<param> -> id : id\n<param-list> -> <param>\n<param-list> -> <param> , <param-list>\n<atom> -> id\n<factor> -> <atom>\n<term> -> <factor>\n<arith> -> <term>\n<atom> -> id\n<factor> -> <atom>\n<term> -> <factor>\n<arith> -> <arith> + <term>\n<expr> -> <arith>\n<expr-list> -> <expr> ;\n<def-func> -> def id ( <param-list> ) : id { <expr-list> }\n<def-attr> -> id : id ;\n<feature-list> -> e\n<feature-list> -> <def-attr> <feature-list>\n<feature-list> -> <def-func> <feature-list>\n<feature-list> -> <def-attr> <feature-list>\n<def-class> -> class id { <feature-list> }\n<def-attr> -> id : id ;\n<param> -> id : id\n<param> -> id : id\n<param-list> -> <param>\n<param-list> -> <param> , <param-list>\n<atom> -> int\n<factor> -> <atom>\n<term> -> <factor>\n<arith> -> <term>\n<expr> -> <arith>\n<expr> -> let id : id = <expr>\n<atom> -> new id ( )\n<factor> -> <atom>\n<atom> -> int\n<factor> -> <atom>\n<term> -> <factor>\n<arith> -> <term>\n<expr> -> <arith>\n<atom> -> id\n<factor> -> <atom>\n<term> -> <factor>\n<arith> -> <term>\n<expr> -> <arith>\n<arg-list> -> <expr>\n<arg-list> -> <expr> , <arg-list>\n<func-call> -> <factor> . id ( <arg-list> )\n<factor> -> <func-call>\n<term> -> <factor>\n<arith> -> <term>\n<expr> -> <arith>\n<expr> -> let id = <expr>\n<atom> -> id\n<factor> -> <atom>\n<term> -> <factor>\n<arith> -> <term>\n<expr> -> <arith>\n<expr-list> -> <expr> ;\n<expr-list> -> <expr> ; <expr-list>\n<expr-list> -> <expr> ; <expr-list>\n<def-func> -> def id ( <param-list> ) : id { <expr-list> }\n<feature-list> -> e\n<feature-list> -> <def-func> <feature-list>\n<feature-list> -> <def-attr> <feature-list>\n<def-class> -> class id : id { <feature-list> }\n<class-list> -> <def-class>\n<class-list> -> <def-class> <class-list>\n<program> -> <class-list>\n==================== AST ======================\n\\__ProgramNode [<class> ... <class>]\n\t\\__ClassDeclarationNode: class A  { <feature> ... <feature> }\n\t\t\\__AttrDeclarationNode: a : int\n\t\t\\__FuncDeclarationNode: def suma(a:int, b:int) : int -> <body>\n\t\t\t\\__<expr> PlusNode <expr>\n\t\t\t\t\\__ VariableNode: a\n\t\t\t\t\\__ VariableNode: b\n\t\t\\__AttrDeclarationNode: b : int\n\t\\__ClassDeclarationNode: class B : A { <feature> ... <feature> }\n\t\t\\__AttrDeclarationNode: c : int\n\t\t\\__FuncDeclarationNode: def f(d:int, a:A) : void -> <body>\n\t\t\t\\__VarDeclarationNode: let f : int = <expr>\n\t\t\t\t\\__ ConstantNumNode: 8\n\t\t\t\\__AssignNode: let c = <expr>\n\t\t\t\t\\__CallNode: <obj>.suma(<expr>, ..., <expr>)\n\t\t\t\t\t\\__ InstantiateNode: new A()\n\t\t\t\t\t\\__ ConstantNumNode: 5\n\t\t\t\t\t\\__ VariableNode: f\n\t\t\t\\__ VariableNode: c\n============== COLLECTING TYPES ===============\nErrors: []\nContext:\n{\n\ttype int {}\n\t\n\ttype void {}\n\t\n\ttype A {}\n\t\n\ttype B {}\n\t\n}\n=============== BUILDING TYPES ================\nErrors: [\n]\nContext:\n{\n\ttype int {}\n\t\n\ttype void {}\n\t\n\ttype A {\n\t\t[attrib] a : int;\n\t\t[attrib] b : int;\n\t\t[method] suma(a:int, b:int): int;\n\t}\n\t\n\ttype B : A {\n\t\t[attrib] c : int;\n\t\t[method] f(d:int, a:A): void;\n\t}\n\t\n}\n=============== CHECKING TYPES ================\nErrors: [\n]\n"
    }
   ],
   "source": [
    "text = '''\n",
    "class A {\n",
    "    a : int ;\n",
    "    def suma ( a : int , b : int ) : int {\n",
    "        a + b ;\n",
    "    }\n",
    "    b : int ;\n",
    "}\n",
    "\n",
    "class B : A {\n",
    "    c : int ;\n",
    "    def f ( d : int , a : A ) : void {\n",
    "        let f : int = 8 ;\n",
    "        let c = new A ( ) . suma ( 5 , f ) ;\n",
    "        c ;\n",
    "    }\n",
    "}\n",
    "'''\n",
    "\n",
    "if __name__ == '__main__':\n",
    "    ast, errors, context, scope = run_pipeline(G, text)\n",
    "    assert not errors"
   ]
  },
  {
   "cell_type": "markdown",
   "metadata": {},
   "source": [
    "### Programa #2\n",
    "\n",
    "Se incluyeron varios errores al programa anterior. Intente detectar todos los errores posibles."
   ]
  },
  {
   "cell_type": "code",
   "execution_count": 36,
   "metadata": {},
   "outputs": [
    {
     "output_type": "stream",
     "name": "stdout",
     "text": "=================== TEXT ======================\n\nclass A {\n    a : int ;\n    def suma ( a : int , b : int ) : int {\n        a + b + new B ( ) ;\n    }\n    b : int ;\n}\n\nclass B : A {\n    c : A ;\n    def f ( d : int , a : A ) : void {\n        let f : int = 8 ;\n        let c = new A ( ) . suma ( 5 , f ) ;\n        d ;        \n    }\n}\n\n================== TOKENS =====================\nclass id {\n    id : id ;\n    def id ( id : id , id : id ) : id {\n        id + id + new id ( ) ;\n    }\n    id : id ;\n}\nclass id : id {\n    id : id ;\n    def id ( id : id , id : id ) : id {\n        let id : id = int ;\n        let id = new id ( ) . id ( int , id ) ;\n        id ;\n    }\n}\n$\n=================== PARSE =====================\n<def-attr> -> id : id ;\n<param> -> id : id\n<param> -> id : id\n<param-list> -> <param>\n<param-list> -> <param> , <param-list>\n<atom> -> id\n<factor> -> <atom>\n<term> -> <factor>\n<arith> -> <term>\n<atom> -> id\n<factor> -> <atom>\n<term> -> <factor>\n<arith> -> <arith> + <term>\n<atom> -> new id ( )\n<factor> -> <atom>\n<term> -> <factor>\n<arith> -> <arith> + <term>\n<expr> -> <arith>\n<expr-list> -> <expr> ;\n<def-func> -> def id ( <param-list> ) : id { <expr-list> }\n<def-attr> -> id : id ;\n<feature-list> -> e\n<feature-list> -> <def-attr> <feature-list>\n<feature-list> -> <def-func> <feature-list>\n<feature-list> -> <def-attr> <feature-list>\n<def-class> -> class id { <feature-list> }\n<def-attr> -> id : id ;\n<param> -> id : id\n<param> -> id : id\n<param-list> -> <param>\n<param-list> -> <param> , <param-list>\n<atom> -> int\n<factor> -> <atom>\n<term> -> <factor>\n<arith> -> <term>\n<expr> -> <arith>\n<expr> -> let id : id = <expr>\n<atom> -> new id ( )\n<factor> -> <atom>\n<atom> -> int\n<factor> -> <atom>\n<term> -> <factor>\n<arith> -> <term>\n<expr> -> <arith>\n<atom> -> id\n<factor> -> <atom>\n<term> -> <factor>\n<arith> -> <term>\n<expr> -> <arith>\n<arg-list> -> <expr>\n<arg-list> -> <expr> , <arg-list>\n<func-call> -> <factor> . id ( <arg-list> )\n<factor> -> <func-call>\n<term> -> <factor>\n<arith> -> <term>\n<expr> -> <arith>\n<expr> -> let id = <expr>\n<atom> -> id\n<factor> -> <atom>\n<term> -> <factor>\n<arith> -> <term>\n<expr> -> <arith>\n<expr-list> -> <expr> ;\n<expr-list> -> <expr> ; <expr-list>\n<expr-list> -> <expr> ; <expr-list>\n<def-func> -> def id ( <param-list> ) : id { <expr-list> }\n<feature-list> -> e\n<feature-list> -> <def-func> <feature-list>\n<feature-list> -> <def-attr> <feature-list>\n<def-class> -> class id : id { <feature-list> }\n<class-list> -> <def-class>\n<class-list> -> <def-class> <class-list>\n<program> -> <class-list>\n==================== AST ======================\n\\__ProgramNode [<class> ... <class>]\n\t\\__ClassDeclarationNode: class A  { <feature> ... <feature> }\n\t\t\\__AttrDeclarationNode: a : int\n\t\t\\__FuncDeclarationNode: def suma(a:int, b:int) : int -> <body>\n\t\t\t\\__<expr> PlusNode <expr>\n\t\t\t\t\\__<expr> PlusNode <expr>\n\t\t\t\t\t\\__ VariableNode: a\n\t\t\t\t\t\\__ VariableNode: b\n\t\t\t\t\\__ InstantiateNode: new B()\n\t\t\\__AttrDeclarationNode: b : int\n\t\\__ClassDeclarationNode: class B : A { <feature> ... <feature> }\n\t\t\\__AttrDeclarationNode: c : A\n\t\t\\__FuncDeclarationNode: def f(d:int, a:A) : void -> <body>\n\t\t\t\\__VarDeclarationNode: let f : int = <expr>\n\t\t\t\t\\__ ConstantNumNode: 8\n\t\t\t\\__AssignNode: let c = <expr>\n\t\t\t\t\\__CallNode: <obj>.suma(<expr>, ..., <expr>)\n\t\t\t\t\t\\__ InstantiateNode: new A()\n\t\t\t\t\t\\__ ConstantNumNode: 5\n\t\t\t\t\t\\__ VariableNode: f\n\t\t\t\\__ VariableNode: d\n============== COLLECTING TYPES ===============\nErrors: []\nContext:\n{\n\ttype int {}\n\t\n\ttype void {}\n\t\n\ttype A {}\n\t\n\ttype B {}\n\t\n}\n=============== BUILDING TYPES ================\nErrors: [\n]\nContext:\n{\n\ttype int {}\n\t\n\ttype void {}\n\t\n\ttype A {\n\t\t[attrib] a : int;\n\t\t[attrib] b : int;\n\t\t[method] suma(a:int, b:int): int;\n\t}\n\t\n\ttype B : A {\n\t\t[attrib] c : A;\n\t\t[method] f(d:int, a:A): void;\n\t}\n\t\n}\n=============== CHECKING TYPES ================\nErrors: [\n\t Operation is not defined between \"int\" and \"B\".\n\t Cannot convert \"int\" into \"A\".\n]\n"
    }
   ],
   "source": [
    "text = '''\n",
    "class A {\n",
    "    a : int ;\n",
    "    def suma ( a : int , b : int ) : int {\n",
    "        a + b + new B ( ) ;\n",
    "    }\n",
    "    b : int ;\n",
    "}\n",
    "\n",
    "class B : A {\n",
    "    c : A ;\n",
    "    def f ( d : int , a : A ) : void {\n",
    "        let f : int = 8 ;\n",
    "        let c = new A ( ) . suma ( 5 , f ) ;\n",
    "        d ;        \n",
    "    }\n",
    "}\n",
    "'''\n",
    "\n",
    "if __name__ == '__main__':\n",
    "    ast, errors, context, scope = run_pipeline(G, text)\n",
    "    assert set(errors) == {\n",
    "\t 'Operation is not defined between \"int\" and \"B\".',\n",
    "\t 'Cannot convert \"int\" into \"A\".'\n",
    "    }"
   ]
  },
  {
   "cell_type": "markdown",
   "metadata": {},
   "source": [
    "## Propuestas\n",
    "\n",
    "- Añada support (en una rama alternativa) para detectar fila y columna donde ocurrió el error."
   ]
  },
  {
   "cell_type": "code",
   "execution_count": 37,
   "metadata": {},
   "outputs": [],
   "source": [
    "program = '''\n",
    "class A {\n",
    "    a : int ;\n",
    "    def suma ( a : int , b : int ) : int {\n",
    "        a + b ;\n",
    "    }\n",
    "    b : int ;\n",
    "}\n",
    "\n",
    "class B : A {\n",
    "    c : int ;\n",
    "    def suma ( d : int , a : int ) : int {\n",
    "        let f : int = 8 ;\n",
    "        let c = new A ( ) . suma ( 5 , f ) ;\n",
    "        c ;\n",
    "    }\n",
    "}\n",
    "'''"
   ]
  },
  {
   "cell_type": "code",
   "execution_count": 38,
   "metadata": {},
   "outputs": [
    {
     "output_type": "stream",
     "name": "stdout",
     "text": "=================== TEXT ======================\n\nclass A {\n    a : int ;\n    def suma ( a : int , b : int ) : int {\n        a + b ;\n    }\n    b : int ;\n}\n\nclass B : A {\n    c : int ;\n    def suma ( d : int , a : int ) : int {\n        let f : int = 8 ;\n        let c = new A ( ) . suma ( 5 , f ) ;\n        c ;\n    }\n}\n\n================== TOKENS =====================\nclass id {\n    id : id ;\n    def id ( id : id , id : id ) : id {\n        id + id ;\n    }\n    id : id ;\n}\nclass id : id {\n    id : id ;\n    def id ( id : id , id : id ) : id {\n        let id : id = int ;\n        let id = new id ( ) . id ( int , id ) ;\n        id ;\n    }\n}\n$\n=================== PARSE =====================\n<def-attr> -> id : id ;\n<param> -> id : id\n<param> -> id : id\n<param-list> -> <param>\n<param-list> -> <param> , <param-list>\n<atom> -> id\n<factor> -> <atom>\n<term> -> <factor>\n<arith> -> <term>\n<atom> -> id\n<factor> -> <atom>\n<term> -> <factor>\n<arith> -> <arith> + <term>\n<expr> -> <arith>\n<expr-list> -> <expr> ;\n<def-func> -> def id ( <param-list> ) : id { <expr-list> }\n<def-attr> -> id : id ;\n<feature-list> -> e\n<feature-list> -> <def-attr> <feature-list>\n<feature-list> -> <def-func> <feature-list>\n<feature-list> -> <def-attr> <feature-list>\n<def-class> -> class id { <feature-list> }\n<def-attr> -> id : id ;\n<param> -> id : id\n<param> -> id : id\n<param-list> -> <param>\n<param-list> -> <param> , <param-list>\n<atom> -> int\n<factor> -> <atom>\n<term> -> <factor>\n<arith> -> <term>\n<expr> -> <arith>\n<expr> -> let id : id = <expr>\n<atom> -> new id ( )\n<factor> -> <atom>\n<atom> -> int\n<factor> -> <atom>\n<term> -> <factor>\n<arith> -> <term>\n<expr> -> <arith>\n<atom> -> id\n<factor> -> <atom>\n<term> -> <factor>\n<arith> -> <term>\n<expr> -> <arith>\n<arg-list> -> <expr>\n<arg-list> -> <expr> , <arg-list>\n<func-call> -> <factor> . id ( <arg-list> )\n<factor> -> <func-call>\n<term> -> <factor>\n<arith> -> <term>\n<expr> -> <arith>\n<expr> -> let id = <expr>\n<atom> -> id\n<factor> -> <atom>\n<term> -> <factor>\n<arith> -> <term>\n<expr> -> <arith>\n<expr-list> -> <expr> ;\n<expr-list> -> <expr> ; <expr-list>\n<expr-list> -> <expr> ; <expr-list>\n<def-func> -> def id ( <param-list> ) : id { <expr-list> }\n<feature-list> -> e\n<feature-list> -> <def-func> <feature-list>\n<feature-list> -> <def-attr> <feature-list>\n<def-class> -> class id : id { <feature-list> }\n<class-list> -> <def-class>\n<class-list> -> <def-class> <class-list>\n<program> -> <class-list>\n==================== AST ======================\n\\__ProgramNode [<class> ... <class>]\n\t\\__ClassDeclarationNode: class A  { <feature> ... <feature> }\n\t\t\\__AttrDeclarationNode: a : int\n\t\t\\__FuncDeclarationNode: def suma(a:int, b:int) : int -> <body>\n\t\t\t\\__<expr> PlusNode <expr>\n\t\t\t\t\\__ VariableNode: a\n\t\t\t\t\\__ VariableNode: b\n\t\t\\__AttrDeclarationNode: b : int\n\t\\__ClassDeclarationNode: class B : A { <feature> ... <feature> }\n\t\t\\__AttrDeclarationNode: c : int\n\t\t\\__FuncDeclarationNode: def suma(d:int, a:int) : int -> <body>\n\t\t\t\\__VarDeclarationNode: let f : int = <expr>\n\t\t\t\t\\__ ConstantNumNode: 8\n\t\t\t\\__AssignNode: let c = <expr>\n\t\t\t\t\\__CallNode: <obj>.suma(<expr>, ..., <expr>)\n\t\t\t\t\t\\__ InstantiateNode: new A()\n\t\t\t\t\t\\__ ConstantNumNode: 5\n\t\t\t\t\t\\__ VariableNode: f\n\t\t\t\\__ VariableNode: c\n============== COLLECTING TYPES ===============\nErrors: []\nContext:\n{\n\ttype int {}\n\t\n\ttype void {}\n\t\n\ttype A {}\n\t\n\ttype B {}\n\t\n}\n=============== BUILDING TYPES ================\nErrors: [\n]\nContext:\n{\n\ttype int {}\n\t\n\ttype void {}\n\t\n\ttype A {\n\t\t[attrib] a : int;\n\t\t[attrib] b : int;\n\t\t[method] suma(a:int, b:int): int;\n\t}\n\t\n\ttype B : A {\n\t\t[attrib] c : int;\n\t\t[method] suma(d:int, a:int): int;\n\t}\n\t\n}\n=============== CHECKING TYPES ================\nErrors: [\n]\n"
    }
   ],
   "source": [
    "if __name__ == '__main__':\n",
    "    ast, errors, context, scope = run_pipeline(G, program)"
   ]
  },
  {
   "cell_type": "code",
   "execution_count": null,
   "metadata": {},
   "outputs": [],
   "source": []
  }
 ],
 "metadata": {
  "kernelspec": {
   "display_name": "Python 3",
   "language": "python",
   "name": "python3"
  },
  "language_info": {
   "codemirror_mode": {
    "name": "ipython",
    "version": 3
   },
   "file_extension": ".py",
   "mimetype": "text/x-python",
   "name": "python",
   "nbconvert_exporter": "python",
   "pygments_lexer": "ipython3",
   "version": "3.7.3-final"
  }
 },
 "nbformat": 4,
 "nbformat_minor": 4
}